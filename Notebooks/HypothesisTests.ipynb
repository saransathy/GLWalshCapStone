{
 "cells": [
  {
   "cell_type": "code",
   "execution_count": 27,
   "id": "0fd483b1-7c0f-4462-be63-327323c66ffe",
   "metadata": {},
   "outputs": [],
   "source": [
    "# Import Libraries\n",
    "import pandas as pd\n",
    "import numpy as np\n",
    "import datetime\n",
    "import matplotlib.pyplot as plt\n",
    "import seaborn as sns\n",
    "import warnings\n",
    "from sklearn.preprocessing import StandardScaler\n",
    "warnings.filterwarnings('ignore')"
   ]
  },
  {
   "cell_type": "code",
   "execution_count": 28,
   "id": "237846cf-2d17-4aed-8d65-ae27ca8c645e",
   "metadata": {},
   "outputs": [],
   "source": [
    "# Set the path to the dataset\n",
    "datasetspath = \"/Users/saransathy/WalshDBA/Capstone\""
   ]
  },
  {
   "cell_type": "code",
   "execution_count": 29,
   "id": "1da32588-63f3-4076-8ac7-20ed025732ef",
   "metadata": {},
   "outputs": [],
   "source": [
    "mv_dataset3 = pd.read_pickle(f\"{datasetspath}/battery_dataset3_normalised.pkl\")\n",
    "etron_df = pd.read_pickle(f\"{datasetspath}/Charge_normalised.pkl\")"
   ]
  },
  {
   "cell_type": "code",
   "execution_count": 30,
   "id": "b8962a94-2c1a-4c0b-be63-394eb5b6bfff",
   "metadata": {},
   "outputs": [],
   "source": [
    "from statsmodels.tsa.stattools import grangercausalitytests\n",
    "from scipy.stats import ks_2samp"
   ]
  },
  {
   "cell_type": "code",
   "execution_count": 31,
   "id": "583711da-56bc-4cfc-99c7-73fbd6ec4e1b",
   "metadata": {},
   "outputs": [],
   "source": [
    "max_lag = 4"
   ]
  },
  {
   "cell_type": "code",
   "execution_count": 32,
   "id": "4999d1a3-cb29-4da8-880f-ee62dff96274",
   "metadata": {},
   "outputs": [
    {
     "name": "stdout",
     "output_type": "stream",
     "text": [
      "\n",
      "Granger Causality\n",
      "number of lags (no zero) 1\n",
      "ssr based F test:         F=5252.2164, p=0.0000  , df_denom=22569852, df_num=1\n",
      "ssr based chi2 test:   chi2=5252.2171, p=0.0000  , df=1\n",
      "likelihood ratio test: chi2=5251.6061, p=0.0000  , df=1\n",
      "parameter F test:         F=5252.2164, p=0.0000  , df_denom=22569852, df_num=1\n",
      "\n",
      "Granger Causality\n",
      "number of lags (no zero) 2\n",
      "ssr based F test:         F=17471.1663, p=0.0000  , df_denom=22569849, df_num=2\n",
      "ssr based chi2 test:   chi2=34942.3403, p=0.0000  , df=2\n",
      "likelihood ratio test: chi2=34915.3196, p=0.0000  , df=2\n",
      "parameter F test:         F=17471.1663, p=0.0000  , df_denom=22569849, df_num=2\n",
      "\n",
      "Granger Causality\n",
      "number of lags (no zero) 3\n",
      "ssr based F test:         F=12424.6770, p=0.0000  , df_denom=22569846, df_num=3\n",
      "ssr based chi2 test:   chi2=37274.0425, p=0.0000  , df=3\n",
      "likelihood ratio test: chi2=37243.2974, p=0.0000  , df=3\n",
      "parameter F test:         F=12424.6770, p=0.0000  , df_denom=22569846, df_num=3\n",
      "\n",
      "Granger Causality\n",
      "number of lags (no zero) 4\n",
      "ssr based F test:         F=9642.7568, p=0.0000  , df_denom=22569843, df_num=4\n",
      "ssr based chi2 test:   chi2=38571.0426, p=0.0000  , df=4\n",
      "likelihood ratio test: chi2=38538.1219, p=0.0000  , df=4\n",
      "parameter F test:         F=9642.7568, p=0.0000  , df_denom=22569843, df_num=4\n"
     ]
    }
   ],
   "source": [
    "# For each lag, check p-values in output summary\n",
    "# Null Hypothesis: Temperature does NOT Granger-cause State of Charge\n",
    "# If p-value < 0.05, reject null: Temperature does impact State of Charge\n",
    "\n",
    "# You may want to test in both directions for completeness:\n",
    "result = grangercausalitytests(mv_dataset3[['Temp', 'SoC']], max_lag, verbose=True)"
   ]
  },
  {
   "cell_type": "code",
   "execution_count": 18,
   "id": "65e0d0ce-9a87-4a1f-928a-87556e2f5fe3",
   "metadata": {},
   "outputs": [
    {
     "name": "stdout",
     "output_type": "stream",
     "text": [
      "\n",
      "Granger Causality\n",
      "number of lags (no zero) 1\n",
      "ssr based F test:         F=231.1888, p=0.0000  , df_denom=22569852, df_num=1\n",
      "ssr based chi2 test:   chi2=231.1888, p=0.0000  , df=1\n",
      "likelihood ratio test: chi2=231.1877, p=0.0000  , df=1\n",
      "parameter F test:         F=231.1888, p=0.0000  , df_denom=22569852, df_num=1\n",
      "\n",
      "Granger Causality\n",
      "number of lags (no zero) 2\n",
      "ssr based F test:         F=110.5428, p=0.0000  , df_denom=22569849, df_num=2\n",
      "ssr based chi2 test:   chi2=221.0857, p=0.0000  , df=2\n",
      "likelihood ratio test: chi2=221.0847, p=0.0000  , df=2\n",
      "parameter F test:         F=110.5429, p=0.0000  , df_denom=22569849, df_num=2\n",
      "\n",
      "Granger Causality\n",
      "number of lags (no zero) 3\n",
      "ssr based F test:         F=73.7714 , p=0.0000  , df_denom=22569846, df_num=3\n",
      "ssr based chi2 test:   chi2=221.3142, p=0.0000  , df=3\n",
      "likelihood ratio test: chi2=221.3131, p=0.0000  , df=3\n",
      "parameter F test:         F=73.7713 , p=0.0000  , df_denom=22569846, df_num=3\n",
      "\n",
      "Granger Causality\n",
      "number of lags (no zero) 4\n",
      "ssr based F test:         F=55.3443 , p=0.0000  , df_denom=22569843, df_num=4\n",
      "ssr based chi2 test:   chi2=221.3773, p=0.0000  , df=4\n",
      "likelihood ratio test: chi2=221.3762, p=0.0000  , df=4\n",
      "parameter F test:         F=55.3444 , p=0.0000  , df_denom=22569843, df_num=4\n"
     ]
    }
   ],
   "source": [
    "result_label = grangercausalitytests(mv_dataset3[['Temp', 'label']], max_lag, verbose=True)"
   ]
  },
  {
   "cell_type": "code",
   "execution_count": 33,
   "id": "30e1f2cc-18a1-4751-bc43-1b67d9814344",
   "metadata": {},
   "outputs": [
    {
     "name": "stdout",
     "output_type": "stream",
     "text": [
      "\n",
      "Granger Causality\n",
      "number of lags (no zero) 1\n",
      "ssr based F test:         F=25.7885 , p=0.0000  , df_denom=90657, df_num=1\n",
      "ssr based chi2 test:   chi2=25.7893 , p=0.0000  , df=1\n",
      "likelihood ratio test: chi2=25.7857 , p=0.0000  , df=1\n",
      "parameter F test:         F=25.7885 , p=0.0000  , df_denom=90657, df_num=1\n",
      "\n",
      "Granger Causality\n",
      "number of lags (no zero) 2\n",
      "ssr based F test:         F=15.1965 , p=0.0000  , df_denom=90654, df_num=2\n",
      "ssr based chi2 test:   chi2=30.3946 , p=0.0000  , df=2\n",
      "likelihood ratio test: chi2=30.3895 , p=0.0000  , df=2\n",
      "parameter F test:         F=15.1965 , p=0.0000  , df_denom=90654, df_num=2\n",
      "\n",
      "Granger Causality\n",
      "number of lags (no zero) 3\n",
      "ssr based F test:         F=10.2387 , p=0.0000  , df_denom=90651, df_num=3\n",
      "ssr based chi2 test:   chi2=30.7185 , p=0.0000  , df=3\n",
      "likelihood ratio test: chi2=30.7133 , p=0.0000  , df=3\n",
      "parameter F test:         F=10.2387 , p=0.0000  , df_denom=90651, df_num=3\n",
      "\n",
      "Granger Causality\n",
      "number of lags (no zero) 4\n",
      "ssr based F test:         F=7.9084  , p=0.0000  , df_denom=90648, df_num=4\n",
      "ssr based chi2 test:   chi2=31.6368 , p=0.0000  , df=4\n",
      "likelihood ratio test: chi2=31.6313 , p=0.0000  , df=4\n",
      "parameter F test:         F=7.9084  , p=0.0000  , df_denom=90648, df_num=4\n"
     ]
    }
   ],
   "source": [
    "etron_result = grangercausalitytests(etron_df[['Temp', 'SoC']], max_lag, verbose=True)"
   ]
  },
  {
   "cell_type": "code",
   "execution_count": 34,
   "id": "3ba74ba8-6ad2-4fc6-af30-a6d57a35bec6",
   "metadata": {},
   "outputs": [
    {
     "name": "stdout",
     "output_type": "stream",
     "text": [
      "KS test: KstestResult(statistic=array([0.07741705, 0.08800648]), pvalue=array([0., 0.]), statistic_location=array([ 0.76472248, -0.48120588]), statistic_sign=array([-1.,  1.]))\n"
     ]
    }
   ],
   "source": [
    "ks = ks_2samp(mv_dataset3[['Temp','SoC']], etron_df[['Temp','SoC']])\n",
    "print('KS test:', ks)"
   ]
  },
  {
   "cell_type": "code",
   "execution_count": 35,
   "id": "f7c3b8f3-1a79-4b82-ab74-81c3ce21ae34",
   "metadata": {},
   "outputs": [
    {
     "name": "stdout",
     "output_type": "stream",
     "text": [
      "T-test p-value: [1. 1. 1. 1.]\n",
      "Mann-Whitney U test p-value: [9.19677828e-136 5.01299807e-002 7.18010803e-005 7.61506503e-005]\n"
     ]
    }
   ],
   "source": [
    "from scipy.stats import ttest_ind, mannwhitneyu\n",
    "\n",
    "# Suppose the columns of interest are 'X' for both dataframes\n",
    "t_stat, t_p = ttest_ind(mv_dataset3[['Curr','Volt','SoC','Temp']], etron_df[['Curr','Volt','SoC','Temp']], equal_var=False)\n",
    "print(f\"T-test p-value: {t_p}\")\n",
    "\n",
    "u_stat, u_p = mannwhitneyu(mv_dataset3[['Curr','Volt','SoC','Temp']], etron_df[['Curr','Volt','SoC','Temp']])\n",
    "print(f\"Mann-Whitney U test p-value: {u_p}\")\n",
    "\n",
    "# Null Hypothesis: Standford Dataset and Multivehicle Dataset are similar\n",
    "# Alternate Hypothesis: Standford Dataset is not similar"
   ]
  },
  {
   "cell_type": "code",
   "execution_count": 19,
   "id": "720ac75c-b0a3-45b9-8e65-cc0305eb9703",
   "metadata": {},
   "outputs": [],
   "source": [
    "del mv_dataset3, etron_df"
   ]
  },
  {
   "cell_type": "code",
   "execution_count": 20,
   "id": "94acfb82-fcf6-4c5a-8c36-358187ab8974",
   "metadata": {},
   "outputs": [],
   "source": [
    "drive_df = pd.read_pickle(f\"{datasetspath}/Drive_normalised.pkl\")"
   ]
  },
  {
   "cell_type": "code",
   "execution_count": 25,
   "id": "164b604c-f2b6-461c-bcf6-98579a5f4418",
   "metadata": {},
   "outputs": [
    {
     "name": "stdout",
     "output_type": "stream",
     "text": [
      "\n",
      "Granger Causality\n",
      "number of lags (no zero) 1\n",
      "ssr based F test:         F=0.6785  , p=0.4101  , df_denom=11250, df_num=1\n",
      "ssr based chi2 test:   chi2=0.6787  , p=0.4100  , df=1\n",
      "likelihood ratio test: chi2=0.6787  , p=0.4100  , df=1\n",
      "parameter F test:         F=0.6785  , p=0.4101  , df_denom=11250, df_num=1\n",
      "\n",
      "Granger Causality\n",
      "number of lags (no zero) 2\n",
      "ssr based F test:         F=0.9250  , p=0.3965  , df_denom=11247, df_num=2\n",
      "ssr based chi2 test:   chi2=1.8509  , p=0.3964  , df=2\n",
      "likelihood ratio test: chi2=1.8507  , p=0.3964  , df=2\n",
      "parameter F test:         F=0.9250  , p=0.3965  , df_denom=11247, df_num=2\n",
      "\n",
      "Granger Causality\n",
      "number of lags (no zero) 3\n",
      "ssr based F test:         F=1.4423  , p=0.2283  , df_denom=11244, df_num=3\n",
      "ssr based chi2 test:   chi2=4.3296  , p=0.2280  , df=3\n",
      "likelihood ratio test: chi2=4.3288  , p=0.2281  , df=3\n",
      "parameter F test:         F=1.4423  , p=0.2283  , df_denom=11244, df_num=3\n",
      "\n",
      "Granger Causality\n",
      "number of lags (no zero) 4\n",
      "ssr based F test:         F=1.1755  , p=0.3193  , df_denom=11241, df_num=4\n",
      "ssr based chi2 test:   chi2=4.7056  , p=0.3189  , df=4\n",
      "likelihood ratio test: chi2=4.7046  , p=0.3190  , df=4\n",
      "parameter F test:         F=1.1755  , p=0.3193  , df_denom=11241, df_num=4\n"
     ]
    }
   ],
   "source": [
    "# For each lag, check p-values in output summary\n",
    "# Null Hypothesis: Resistance during Acceleration and Breaking does not impact SoC\n",
    "# If p-value < 0.05, reject null: Resistance does impact State of Charge\n",
    "\n",
    "# You may want to test in both directions for completeness:\n",
    "drive_result = grangercausalitytests(drive_df[['Resistance', 'SoC']], max_lag, verbose=True)"
   ]
  },
  {
   "cell_type": "code",
   "execution_count": 26,
   "id": "df84cefc-613c-4d95-ae6e-b33d851a25d3",
   "metadata": {},
   "outputs": [
    {
     "name": "stdout",
     "output_type": "stream",
     "text": [
      "\n",
      "Granger Causality\n",
      "number of lags (no zero) 1\n",
      "ssr based F test:         F=0.4982  , p=0.4803  , df_denom=11250, df_num=1\n",
      "ssr based chi2 test:   chi2=0.4983  , p=0.4802  , df=1\n",
      "likelihood ratio test: chi2=0.4983  , p=0.4802  , df=1\n",
      "parameter F test:         F=0.4982  , p=0.4803  , df_denom=11250, df_num=1\n",
      "\n",
      "Granger Causality\n",
      "number of lags (no zero) 2\n",
      "ssr based F test:         F=0.3009  , p=0.7402  , df_denom=11247, df_num=2\n",
      "ssr based chi2 test:   chi2=0.6021  , p=0.7401  , df=2\n",
      "likelihood ratio test: chi2=0.6021  , p=0.7401  , df=2\n",
      "parameter F test:         F=0.3009  , p=0.7402  , df_denom=11247, df_num=2\n",
      "\n",
      "Granger Causality\n",
      "number of lags (no zero) 3\n",
      "ssr based F test:         F=0.4823  , p=0.6946  , df_denom=11244, df_num=3\n",
      "ssr based chi2 test:   chi2=1.4477  , p=0.6944  , df=3\n",
      "likelihood ratio test: chi2=1.4476  , p=0.6944  , df=3\n",
      "parameter F test:         F=0.4823  , p=0.6946  , df_denom=11244, df_num=3\n",
      "\n",
      "Granger Causality\n",
      "number of lags (no zero) 4\n",
      "ssr based F test:         F=0.4030  , p=0.8066  , df_denom=11241, df_num=4\n",
      "ssr based chi2 test:   chi2=1.6133  , p=0.8064  , df=4\n",
      "likelihood ratio test: chi2=1.6132  , p=0.8064  , df=4\n",
      "parameter F test:         F=0.4030  , p=0.8066  , df_denom=11241, df_num=4\n"
     ]
    }
   ],
   "source": [
    "# For each lag, check p-values in output summary\n",
    "# Null Hypothesis: Impedance does not impact SoC\n",
    "# If p-value < 0.05, reject null: Impedance does impact State of Charge\n",
    "\n",
    "# You may want to test in both directions for completeness:\n",
    "drive_result2 = grangercausalitytests(drive_df[['Impedance', 'SoC']], max_lag, verbose=True)"
   ]
  }
 ],
 "metadata": {
  "kernelspec": {
   "display_name": "Python [conda env:tf_env]",
   "language": "python",
   "name": "conda-env-tf_env-py"
  },
  "language_info": {
   "codemirror_mode": {
    "name": "ipython",
    "version": 3
   },
   "file_extension": ".py",
   "mimetype": "text/x-python",
   "name": "python",
   "nbconvert_exporter": "python",
   "pygments_lexer": "ipython3",
   "version": "3.12.11"
  }
 },
 "nbformat": 4,
 "nbformat_minor": 5
}
