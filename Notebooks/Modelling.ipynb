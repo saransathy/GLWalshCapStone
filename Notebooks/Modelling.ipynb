{
 "cells": [
  {
   "cell_type": "code",
   "execution_count": 28,
   "id": "66566bbd-f7c7-4616-8a17-7a7454cbcd82",
   "metadata": {},
   "outputs": [],
   "source": [
    "import warnings\n",
    "warnings.filterwarnings('ignore')"
   ]
  },
  {
   "cell_type": "code",
   "execution_count": 29,
   "id": "c8dfc084-317d-40cf-8924-5fff496dcafb",
   "metadata": {},
   "outputs": [],
   "source": [
    "from sklearn.linear_model import LogisticRegression\n",
    "from sklearn.metrics import accuracy_score, classification_report, confusion_matrix\n",
    "from sklearn.model_selection import train_test_split\n",
    "from sklearn.inspection import permutation_importance\n",
    "from sklearn.ensemble import RandomForestClassifier\n",
    "import xgboost as xgb\n",
    "from xgboost import XGBClassifier\n",
    "import tensorflow as tf\n",
    "from tensorflow import keras\n",
    "from tensorflow.keras import layers\n",
    "from tensorflow.keras.models import Sequential\n",
    "from tensorflow.keras.layers import Dense, Dropout, Conv1D, MaxPooling1D, Flatten, LSTM, Masking\n",
    "from tensorflow.keras.utils import to_categorical\n",
    "from tensorflow.keras.preprocessing.sequence import pad_sequences\n",
    "import pandas as pd\n",
    "import numpy as np\n",
    "import shap\n"
   ]
  },
  {
   "cell_type": "code",
   "execution_count": 30,
   "id": "f4ac3de1-2887-4663-8f11-9dfeaba4ca3c",
   "metadata": {},
   "outputs": [],
   "source": [
    "# Print DL Model Results\n",
    "def dl_model_results(model, X_test, y_test):\n",
    "    y_pred = model.predict(X_test)\n",
    "    y_pred = (y_pred > 0.5).astype(int)\n",
    "    model_accuracy = accuracy_score(y_test, y_pred)\n",
    "    model_classification_report = classification_report(y_test, y_pred)\n",
    "    model_confusion_matrix = confusion_matrix(y_test, y_pred)\n",
    "    print(f\"Accuracy: {model_accuracy:.4f}\")\n",
    "    print(\"Classification Report:\")\n",
    "    print(model_classification_report)\n",
    "    print(\"Confusion Matrix:\")\n",
    "    print(model_confusion_matrix)\n",
    "    del y_pred\n",
    "    return model_accuracy, model_classification_report, model_confusion_matrix"
   ]
  },
  {
   "cell_type": "code",
   "execution_count": 3,
   "id": "38f6b5a2-ef80-4b04-ae9e-2b9bc4b3d417",
   "metadata": {},
   "outputs": [],
   "source": [
    "# Set the path to the dataset\n",
    "datasetspath = \"/Users/saransathy/WalshDBA/Capstone\""
   ]
  },
  {
   "cell_type": "code",
   "execution_count": 4,
   "id": "1079e695-b57c-4377-a245-03adedc1e82b",
   "metadata": {},
   "outputs": [],
   "source": [
    "# Read Data\n",
    "mv_dataset3 = pd.read_pickle(f\"{datasetspath}/battery_dataset3_normalised.pkl\")\n",
    "etron_df = pd.read_pickle(f\"{datasetspath}/Charge_normalised.pkl\")"
   ]
  },
  {
   "cell_type": "code",
   "execution_count": 5,
   "id": "74f60c81-c536-49ab-859c-8be2a2b283a6",
   "metadata": {},
   "outputs": [
    {
     "data": {
      "text/html": [
       "<div>\n",
       "<style scoped>\n",
       "    .dataframe tbody tr th:only-of-type {\n",
       "        vertical-align: middle;\n",
       "    }\n",
       "\n",
       "    .dataframe tbody tr th {\n",
       "        vertical-align: top;\n",
       "    }\n",
       "\n",
       "    .dataframe thead th {\n",
       "        text-align: right;\n",
       "    }\n",
       "</style>\n",
       "<table border=\"1\" class=\"dataframe\">\n",
       "  <thead>\n",
       "    <tr style=\"text-align: right;\">\n",
       "      <th></th>\n",
       "      <th>label</th>\n",
       "      <th>mileage</th>\n",
       "      <th>capacity</th>\n",
       "      <th>car</th>\n",
       "      <th>charge_segment</th>\n",
       "      <th>Curr</th>\n",
       "      <th>SoC</th>\n",
       "      <th>Temp</th>\n",
       "      <th>Volt</th>\n",
       "      <th>MaxVolt</th>\n",
       "      <th>MinVolt</th>\n",
       "      <th>MinTemp</th>\n",
       "    </tr>\n",
       "  </thead>\n",
       "  <tbody>\n",
       "    <tr>\n",
       "      <th>7048363</th>\n",
       "      <td>00</td>\n",
       "      <td>17642.592</td>\n",
       "      <td>0.0</td>\n",
       "      <td>506</td>\n",
       "      <td>76</td>\n",
       "      <td>0.544361</td>\n",
       "      <td>-2.726636</td>\n",
       "      <td>-2.382223</td>\n",
       "      <td>0.818902</td>\n",
       "      <td>0.931489</td>\n",
       "      <td>0.790114</td>\n",
       "      <td>0.94679</td>\n",
       "    </tr>\n",
       "  </tbody>\n",
       "</table>\n",
       "</div>"
      ],
      "text/plain": [
       "        label    mileage  capacity  car charge_segment      Curr       SoC  \\\n",
       "7048363    00  17642.592       0.0  506             76  0.544361 -2.726636   \n",
       "\n",
       "             Temp      Volt   MaxVolt   MinVolt  MinTemp  \n",
       "7048363 -2.382223  0.818902  0.931489  0.790114  0.94679  "
      ]
     },
     "execution_count": 5,
     "metadata": {},
     "output_type": "execute_result"
    }
   ],
   "source": [
    "mv_dataset3.sample()"
   ]
  },
  {
   "cell_type": "code",
   "execution_count": 6,
   "id": "26218f70-6b0e-4a51-b809-878ea4f8f3f9",
   "metadata": {},
   "outputs": [],
   "source": [
    "# For Modelling purpose the Battery Dataset from 3rd Manufacturer will be used along with\n",
    "# Audi eTron Data. Need to update Audi eTron data with Charge Segment and Capacity and assume \n",
    "# the battery is healthy\n",
    "# Get unique dates in index in order\n",
    "unique_dates = pd.Series(etron_df.index.date).drop_duplicates().reset_index(drop=True)\n",
    "\n",
    "# Map each unique date to its CS value (starting at 0)\n",
    "cs_map = {date: idx for idx, date in enumerate(unique_dates)}\n",
    "\n",
    "# Assign CS column based on mapping\n",
    "etron_df['charge_segment'] = [cs_map[d] for d in etron_df.index.date]\n",
    "etron_df['car'] = np.max(mv_dataset3['car'])+100\n",
    "etron_df['mileage'] = 0\n",
    "etron_df['capacity'] = 95\n",
    "etron_df['label'] = '00'\n",
    "\n",
    "# Release Memory\n",
    "del unique_dates"
   ]
  },
  {
   "cell_type": "code",
   "execution_count": 7,
   "id": "f12dc51a-b82e-47b9-85a6-79a01a104bc1",
   "metadata": {},
   "outputs": [
    {
     "data": {
      "text/html": [
       "<div>\n",
       "<style scoped>\n",
       "    .dataframe tbody tr th:only-of-type {\n",
       "        vertical-align: middle;\n",
       "    }\n",
       "\n",
       "    .dataframe tbody tr th {\n",
       "        vertical-align: top;\n",
       "    }\n",
       "\n",
       "    .dataframe thead th {\n",
       "        text-align: right;\n",
       "    }\n",
       "</style>\n",
       "<table border=\"1\" class=\"dataframe\">\n",
       "  <thead>\n",
       "    <tr style=\"text-align: right;\">\n",
       "      <th></th>\n",
       "      <th>Curr</th>\n",
       "      <th>Volt</th>\n",
       "      <th>SoC</th>\n",
       "      <th>Temp</th>\n",
       "      <th>charge_segment</th>\n",
       "      <th>car</th>\n",
       "      <th>mileage</th>\n",
       "      <th>capacity</th>\n",
       "      <th>label</th>\n",
       "    </tr>\n",
       "  </thead>\n",
       "  <tbody>\n",
       "    <tr>\n",
       "      <th>2019-12-22 05:01:30</th>\n",
       "      <td>0.334963</td>\n",
       "      <td>0.717473</td>\n",
       "      <td>0.704492</td>\n",
       "      <td>-0.633075</td>\n",
       "      <td>5</td>\n",
       "      <td>649</td>\n",
       "      <td>0</td>\n",
       "      <td>95</td>\n",
       "      <td>00</td>\n",
       "    </tr>\n",
       "  </tbody>\n",
       "</table>\n",
       "</div>"
      ],
      "text/plain": [
       "                         Curr      Volt       SoC      Temp  charge_segment  \\\n",
       "2019-12-22 05:01:30  0.334963  0.717473  0.704492 -0.633075               5   \n",
       "\n",
       "                     car  mileage  capacity label  \n",
       "2019-12-22 05:01:30  649        0        95    00  "
      ]
     },
     "execution_count": 7,
     "metadata": {},
     "output_type": "execute_result"
    }
   ],
   "source": [
    "etron_df.sample()"
   ]
  },
  {
   "cell_type": "code",
   "execution_count": 8,
   "id": "896bb49c-53a3-4e37-92ee-4854ac572fa2",
   "metadata": {},
   "outputs": [
    {
     "data": {
      "text/html": [
       "<div>\n",
       "<style scoped>\n",
       "    .dataframe tbody tr th:only-of-type {\n",
       "        vertical-align: middle;\n",
       "    }\n",
       "\n",
       "    .dataframe tbody tr th {\n",
       "        vertical-align: top;\n",
       "    }\n",
       "\n",
       "    .dataframe thead th {\n",
       "        text-align: right;\n",
       "    }\n",
       "</style>\n",
       "<table border=\"1\" class=\"dataframe\">\n",
       "  <thead>\n",
       "    <tr style=\"text-align: right;\">\n",
       "      <th></th>\n",
       "      <th>label</th>\n",
       "      <th>mileage</th>\n",
       "      <th>capacity</th>\n",
       "      <th>car</th>\n",
       "      <th>charge_segment</th>\n",
       "      <th>Curr</th>\n",
       "      <th>SoC</th>\n",
       "      <th>Temp</th>\n",
       "      <th>Volt</th>\n",
       "    </tr>\n",
       "  </thead>\n",
       "  <tbody>\n",
       "    <tr>\n",
       "      <th>5883367</th>\n",
       "      <td>00</td>\n",
       "      <td>51771.456</td>\n",
       "      <td>38.807835</td>\n",
       "      <td>503</td>\n",
       "      <td>314</td>\n",
       "      <td>0.254016</td>\n",
       "      <td>-1.604704</td>\n",
       "      <td>-1.331636</td>\n",
       "      <td>-1.109419</td>\n",
       "    </tr>\n",
       "  </tbody>\n",
       "</table>\n",
       "</div>"
      ],
      "text/plain": [
       "        label    mileage   capacity  car charge_segment      Curr       SoC  \\\n",
       "5883367    00  51771.456  38.807835  503            314  0.254016 -1.604704   \n",
       "\n",
       "             Temp      Volt  \n",
       "5883367 -1.331636 -1.109419  "
      ]
     },
     "execution_count": 8,
     "metadata": {},
     "output_type": "execute_result"
    }
   ],
   "source": [
    "df = pd.concat([mv_dataset3.drop(['MaxVolt','MinVolt','MinTemp'], axis=1), etron_df], axis=0, ignore_index=True)\n",
    "df.sample()"
   ]
  },
  {
   "cell_type": "code",
   "execution_count": 9,
   "id": "2e50d4fa-8d8a-4722-879a-b6018e753935",
   "metadata": {},
   "outputs": [
    {
     "data": {
      "text/html": [
       "<div>\n",
       "<style scoped>\n",
       "    .dataframe tbody tr th:only-of-type {\n",
       "        vertical-align: middle;\n",
       "    }\n",
       "\n",
       "    .dataframe tbody tr th {\n",
       "        vertical-align: top;\n",
       "    }\n",
       "\n",
       "    .dataframe thead th {\n",
       "        text-align: right;\n",
       "    }\n",
       "</style>\n",
       "<table border=\"1\" class=\"dataframe\">\n",
       "  <thead>\n",
       "    <tr style=\"text-align: right;\">\n",
       "      <th></th>\n",
       "      <th>label</th>\n",
       "      <th>mileage</th>\n",
       "      <th>capacity</th>\n",
       "      <th>car</th>\n",
       "      <th>charge_segment</th>\n",
       "      <th>Curr</th>\n",
       "      <th>SoC</th>\n",
       "      <th>Temp</th>\n",
       "      <th>Volt</th>\n",
       "    </tr>\n",
       "  </thead>\n",
       "  <tbody>\n",
       "    <tr>\n",
       "      <th>22637238</th>\n",
       "      <td>00</td>\n",
       "      <td>0.0</td>\n",
       "      <td>95.0</td>\n",
       "      <td>649</td>\n",
       "      <td>43</td>\n",
       "      <td>0.334963</td>\n",
       "      <td>-0.493092</td>\n",
       "      <td>1.018867</td>\n",
       "      <td>-0.595558</td>\n",
       "    </tr>\n",
       "  </tbody>\n",
       "</table>\n",
       "</div>"
      ],
      "text/plain": [
       "         label  mileage  capacity  car charge_segment      Curr       SoC  \\\n",
       "22637238    00      0.0      95.0  649             43  0.334963 -0.493092   \n",
       "\n",
       "              Temp      Volt  \n",
       "22637238  1.018867 -0.595558  "
      ]
     },
     "execution_count": 9,
     "metadata": {},
     "output_type": "execute_result"
    }
   ],
   "source": [
    "df[df['car']==649].sample()"
   ]
  },
  {
   "cell_type": "code",
   "execution_count": 10,
   "id": "df255d8b-24d3-44e9-9bb4-4d7c62374433",
   "metadata": {},
   "outputs": [
    {
     "data": {
      "text/plain": [
       "label              object\n",
       "mileage           float64\n",
       "capacity          float64\n",
       "car                 int64\n",
       "charge_segment     object\n",
       "Curr              float64\n",
       "SoC               float64\n",
       "Temp              float64\n",
       "Volt              float64\n",
       "dtype: object"
      ]
     },
     "execution_count": 10,
     "metadata": {},
     "output_type": "execute_result"
    }
   ],
   "source": [
    "df.dtypes"
   ]
  },
  {
   "cell_type": "code",
   "execution_count": 11,
   "id": "82e745d2-f6e6-4bf3-8ac1-3a7b905ada09",
   "metadata": {},
   "outputs": [],
   "source": [
    "# Perform Zscalar Normalization on the merged data\n",
    "cols = [\"Curr\",\"Volt\",\"SoC\",\"Temp\"]\n",
    "df[cols] = (df[cols] - df[cols].mean()) / df[cols].std(ddof=0)"
   ]
  },
  {
   "cell_type": "code",
   "execution_count": 12,
   "id": "03a8f606-7ff3-408a-90fa-efcdbae88113",
   "metadata": {},
   "outputs": [],
   "source": [
    "cols1 = ['mileage', 'capacity','Curr','SoC','Temp','Volt']\n",
    "cols2 = ['Curr','SoC','Temp','Volt']\n",
    "cols3 = ['mileage', 'capacity','Curr','SoC','Temp','Volt', 'Curr_lag','SoC_lag','Temp_lag','Volt_lag']\n",
    "cols4 = ['Curr','SoC','Temp','Volt', 'Curr_lag','SoC_lag','Temp_lag','Volt_lag']"
   ]
  },
  {
   "cell_type": "code",
   "execution_count": 14,
   "id": "76585ba6-eaed-433f-a972-c1c0244a0c4b",
   "metadata": {},
   "outputs": [],
   "source": [
    "# Prepare Data\n",
    "sequences = []\n",
    "labels = []\n",
    "for name, group in df.groupby(['car','charge_segment']):\n",
    "    seq = group[cols2].values\n",
    "    sequences.append(seq)\n",
    "    # Use target of first row in each group for label\n",
    "    label = 0\n",
    "    if (group['label'].iloc[0] == '10'):\n",
    "        label = 1\n",
    "    labels.append(label)"
   ]
  },
  {
   "cell_type": "code",
   "execution_count": 15,
   "id": "f6d73423-a853-4d2d-929c-2ebe0e95dabf",
   "metadata": {},
   "outputs": [
    {
     "data": {
      "text/plain": [
       "(12430, 12430)"
      ]
     },
     "execution_count": 15,
     "metadata": {},
     "output_type": "execute_result"
    }
   ],
   "source": [
    "len(sequences), len(labels)"
   ]
  },
  {
   "cell_type": "code",
   "execution_count": 16,
   "id": "2f815f56-7fca-47c0-bbec-7ed09f7d4719",
   "metadata": {},
   "outputs": [],
   "source": [
    "# Pad sequences to the same length (maxlen)\n",
    "X = pad_sequences(sequences, dtype='float32', padding='post', value=0.0)\n",
    "y = np.array(labels)\n",
    "# Split Train and Test sets\n",
    "X_train, X_test, y_train, y_test = train_test_split(X, y, test_size=0.3, random_state=42, stratify=y)\n",
    "# Release memory\n",
    "del mv_dataset3, etron_df, df, X, y, sequences, labels"
   ]
  },
  {
   "cell_type": "code",
   "execution_count": 18,
   "id": "0a89b5e4-23ac-4842-9b04-55baac459961",
   "metadata": {},
   "outputs": [
    {
     "data": {
      "text/html": [
       "<pre style=\"white-space:pre;overflow-x:auto;line-height:normal;font-family:Menlo,'DejaVu Sans Mono',consolas,'Courier New',monospace\"><span style=\"font-weight: bold\">Model: \"sequential\"</span>\n",
       "</pre>\n"
      ],
      "text/plain": [
       "\u001b[1mModel: \"sequential\"\u001b[0m\n"
      ]
     },
     "metadata": {},
     "output_type": "display_data"
    },
    {
     "data": {
      "text/html": [
       "<pre style=\"white-space:pre;overflow-x:auto;line-height:normal;font-family:Menlo,'DejaVu Sans Mono',consolas,'Courier New',monospace\">┏━━━━━━━━━━━━━━━━━━━━━━━━━━━━━━━━━┳━━━━━━━━━━━━━━━━━━━━━━━━┳━━━━━━━━━━━━━━━┓\n",
       "┃<span style=\"font-weight: bold\"> Layer (type)                    </span>┃<span style=\"font-weight: bold\"> Output Shape           </span>┃<span style=\"font-weight: bold\">       Param # </span>┃\n",
       "┡━━━━━━━━━━━━━━━━━━━━━━━━━━━━━━━━━╇━━━━━━━━━━━━━━━━━━━━━━━━╇━━━━━━━━━━━━━━━┩\n",
       "│ masking (<span style=\"color: #0087ff; text-decoration-color: #0087ff\">Masking</span>)               │ (<span style=\"color: #00d7ff; text-decoration-color: #00d7ff\">None</span>, <span style=\"color: #00af00; text-decoration-color: #00af00\">138496</span>, <span style=\"color: #00af00; text-decoration-color: #00af00\">4</span>)      │             <span style=\"color: #00af00; text-decoration-color: #00af00\">0</span> │\n",
       "├─────────────────────────────────┼────────────────────────┼───────────────┤\n",
       "│ lstm (<span style=\"color: #0087ff; text-decoration-color: #0087ff\">LSTM</span>)                     │ (<span style=\"color: #00d7ff; text-decoration-color: #00d7ff\">None</span>, <span style=\"color: #00af00; text-decoration-color: #00af00\">32</span>)             │         <span style=\"color: #00af00; text-decoration-color: #00af00\">4,736</span> │\n",
       "├─────────────────────────────────┼────────────────────────┼───────────────┤\n",
       "│ dense (<span style=\"color: #0087ff; text-decoration-color: #0087ff\">Dense</span>)                   │ (<span style=\"color: #00d7ff; text-decoration-color: #00d7ff\">None</span>, <span style=\"color: #00af00; text-decoration-color: #00af00\">1</span>)              │            <span style=\"color: #00af00; text-decoration-color: #00af00\">33</span> │\n",
       "└─────────────────────────────────┴────────────────────────┴───────────────┘\n",
       "</pre>\n"
      ],
      "text/plain": [
       "┏━━━━━━━━━━━━━━━━━━━━━━━━━━━━━━━━━┳━━━━━━━━━━━━━━━━━━━━━━━━┳━━━━━━━━━━━━━━━┓\n",
       "┃\u001b[1m \u001b[0m\u001b[1mLayer (type)                   \u001b[0m\u001b[1m \u001b[0m┃\u001b[1m \u001b[0m\u001b[1mOutput Shape          \u001b[0m\u001b[1m \u001b[0m┃\u001b[1m \u001b[0m\u001b[1m      Param #\u001b[0m\u001b[1m \u001b[0m┃\n",
       "┡━━━━━━━━━━━━━━━━━━━━━━━━━━━━━━━━━╇━━━━━━━━━━━━━━━━━━━━━━━━╇━━━━━━━━━━━━━━━┩\n",
       "│ masking (\u001b[38;5;33mMasking\u001b[0m)               │ (\u001b[38;5;45mNone\u001b[0m, \u001b[38;5;34m138496\u001b[0m, \u001b[38;5;34m4\u001b[0m)      │             \u001b[38;5;34m0\u001b[0m │\n",
       "├─────────────────────────────────┼────────────────────────┼───────────────┤\n",
       "│ lstm (\u001b[38;5;33mLSTM\u001b[0m)                     │ (\u001b[38;5;45mNone\u001b[0m, \u001b[38;5;34m32\u001b[0m)             │         \u001b[38;5;34m4,736\u001b[0m │\n",
       "├─────────────────────────────────┼────────────────────────┼───────────────┤\n",
       "│ dense (\u001b[38;5;33mDense\u001b[0m)                   │ (\u001b[38;5;45mNone\u001b[0m, \u001b[38;5;34m1\u001b[0m)              │            \u001b[38;5;34m33\u001b[0m │\n",
       "└─────────────────────────────────┴────────────────────────┴───────────────┘\n"
      ]
     },
     "metadata": {},
     "output_type": "display_data"
    },
    {
     "data": {
      "text/html": [
       "<pre style=\"white-space:pre;overflow-x:auto;line-height:normal;font-family:Menlo,'DejaVu Sans Mono',consolas,'Courier New',monospace\"><span style=\"font-weight: bold\"> Total params: </span><span style=\"color: #00af00; text-decoration-color: #00af00\">4,769</span> (18.63 KB)\n",
       "</pre>\n"
      ],
      "text/plain": [
       "\u001b[1m Total params: \u001b[0m\u001b[38;5;34m4,769\u001b[0m (18.63 KB)\n"
      ]
     },
     "metadata": {},
     "output_type": "display_data"
    },
    {
     "data": {
      "text/html": [
       "<pre style=\"white-space:pre;overflow-x:auto;line-height:normal;font-family:Menlo,'DejaVu Sans Mono',consolas,'Courier New',monospace\"><span style=\"font-weight: bold\"> Trainable params: </span><span style=\"color: #00af00; text-decoration-color: #00af00\">4,769</span> (18.63 KB)\n",
       "</pre>\n"
      ],
      "text/plain": [
       "\u001b[1m Trainable params: \u001b[0m\u001b[38;5;34m4,769\u001b[0m (18.63 KB)\n"
      ]
     },
     "metadata": {},
     "output_type": "display_data"
    },
    {
     "data": {
      "text/html": [
       "<pre style=\"white-space:pre;overflow-x:auto;line-height:normal;font-family:Menlo,'DejaVu Sans Mono',consolas,'Courier New',monospace\"><span style=\"font-weight: bold\"> Non-trainable params: </span><span style=\"color: #00af00; text-decoration-color: #00af00\">0</span> (0.00 B)\n",
       "</pre>\n"
      ],
      "text/plain": [
       "\u001b[1m Non-trainable params: \u001b[0m\u001b[38;5;34m0\u001b[0m (0.00 B)\n"
      ]
     },
     "metadata": {},
     "output_type": "display_data"
    }
   ],
   "source": [
    "# Model\n",
    "model = Sequential([\n",
    "    Masking(mask_value=0.0, input_shape=(X_train.shape[1], X_train.shape[2])),  # Mask the pads\n",
    "    LSTM(32),\n",
    "    Dense(1, activation='sigmoid')\n",
    "])\n",
    "\n",
    "model.compile(loss='binary_crossentropy', optimizer='adam', metrics=['accuracy'])\n",
    "model.summary()\n"
   ]
  },
  {
   "cell_type": "code",
   "execution_count": 19,
   "id": "e5415450-5c71-46db-8138-a29b1a397554",
   "metadata": {},
   "outputs": [
    {
     "name": "stdout",
     "output_type": "stream",
     "text": [
      "Epoch 1/5\n",
      "\u001b[1m8701/8701\u001b[0m \u001b[32m━━━━━━━━━━━━━━━━━━━━\u001b[0m\u001b[37m\u001b[0m \u001b[1m71050s\u001b[0m 8s/step - accuracy: 0.6582 - loss: 0.6206\n",
      "Epoch 2/5\n",
      "\u001b[1m8701/8701\u001b[0m \u001b[32m━━━━━━━━━━━━━━━━━━━━\u001b[0m\u001b[37m\u001b[0m \u001b[1m72035s\u001b[0m 8s/step - accuracy: 0.6752 - loss: 0.6009\n",
      "Epoch 3/5\n",
      "\u001b[1m8701/8701\u001b[0m \u001b[32m━━━━━━━━━━━━━━━━━━━━\u001b[0m\u001b[37m\u001b[0m \u001b[1m70600s\u001b[0m 8s/step - accuracy: 0.6938 - loss: 0.5822\n",
      "Epoch 4/5\n",
      "\u001b[1m8701/8701\u001b[0m \u001b[32m━━━━━━━━━━━━━━━━━━━━\u001b[0m\u001b[37m\u001b[0m \u001b[1m71294s\u001b[0m 8s/step - accuracy: 0.7053 - loss: 0.5730\n",
      "Epoch 5/5\n",
      "\u001b[1m8701/8701\u001b[0m \u001b[32m━━━━━━━━━━━━━━━━━━━━\u001b[0m\u001b[37m\u001b[0m \u001b[1m68995s\u001b[0m 8s/step - accuracy: 0.7061 - loss: 0.5793\n"
     ]
    },
    {
     "data": {
      "text/plain": [
       "<keras.src.callbacks.history.History at 0x1652de5a0>"
      ]
     },
     "execution_count": 19,
     "metadata": {},
     "output_type": "execute_result"
    }
   ],
   "source": [
    "# Train\n",
    "model.fit(X_train, y_train, epochs=5, batch_size=1)"
   ]
  },
  {
   "cell_type": "code",
   "execution_count": 21,
   "id": "423f62ae-90d1-481f-aa4f-2ab893019da6",
   "metadata": {},
   "outputs": [],
   "source": [
    "model.save(f\"{datasetspath}/lstm_model.keras\")"
   ]
  },
  {
   "cell_type": "code",
   "execution_count": 31,
   "id": "4f599924-dc36-45db-a456-588f4b8b5916",
   "metadata": {},
   "outputs": [
    {
     "name": "stdout",
     "output_type": "stream",
     "text": [
      "\u001b[1m117/117\u001b[0m \u001b[32m━━━━━━━━━━━━━━━━━━━━\u001b[0m\u001b[37m\u001b[0m \u001b[1m327s\u001b[0m 3s/step\n",
      "Accuracy: 0.7112\n",
      "Classification Report:\n",
      "              precision    recall  f1-score   support\n",
      "\n",
      "           0       0.76      0.49      0.60      1619\n",
      "           1       0.69      0.88      0.77      2110\n",
      "\n",
      "    accuracy                           0.71      3729\n",
      "   macro avg       0.73      0.69      0.69      3729\n",
      "weighted avg       0.72      0.71      0.70      3729\n",
      "\n",
      "Confusion Matrix:\n",
      "[[ 798  821]\n",
      " [ 256 1854]]\n"
     ]
    },
    {
     "data": {
      "text/plain": [
       "(0.7111826226870475,\n",
       " '              precision    recall  f1-score   support\\n\\n           0       0.76      0.49      0.60      1619\\n           1       0.69      0.88      0.77      2110\\n\\n    accuracy                           0.71      3729\\n   macro avg       0.73      0.69      0.69      3729\\nweighted avg       0.72      0.71      0.70      3729\\n',\n",
       " array([[ 798,  821],\n",
       "        [ 256, 1854]]))"
      ]
     },
     "execution_count": 31,
     "metadata": {},
     "output_type": "execute_result"
    }
   ],
   "source": [
    "dl_model_results(model, X_test, y_test)"
   ]
  },
  {
   "cell_type": "code",
   "execution_count": null,
   "id": "9878b93a-a249-45f1-b2c0-eb4c1ddcaa64",
   "metadata": {},
   "outputs": [],
   "source": []
  }
 ],
 "metadata": {
  "kernelspec": {
   "display_name": "Python [conda env:tf_env]",
   "language": "python",
   "name": "conda-env-tf_env-py"
  },
  "language_info": {
   "codemirror_mode": {
    "name": "ipython",
    "version": 3
   },
   "file_extension": ".py",
   "mimetype": "text/x-python",
   "name": "python",
   "nbconvert_exporter": "python",
   "pygments_lexer": "ipython3",
   "version": "3.12.11"
  }
 },
 "nbformat": 4,
 "nbformat_minor": 5
}
