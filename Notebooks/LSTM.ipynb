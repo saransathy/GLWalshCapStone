{
 "cells": [
  {
   "cell_type": "code",
   "execution_count": 1,
   "id": "fcdf371c-e28f-4559-ba34-8bbedf9d07d4",
   "metadata": {},
   "outputs": [
    {
     "name": "stderr",
     "output_type": "stream",
     "text": [
      "/opt/anaconda3/envs/tf_env/lib/python3.12/site-packages/requests/__init__.py:86: RequestsDependencyWarning: Unable to find acceptable character detection dependency (chardet or charset_normalizer).\n",
      "  warnings.warn(\n"
     ]
    }
   ],
   "source": [
    "import tensorflow as tf\n",
    "from tensorflow import keras\n",
    "from tensorflow.keras import layers\n",
    "from tensorflow.keras.models import Sequential\n",
    "from tensorflow.keras.layers import Dense, Dropout, Conv1D, MaxPooling1D, Flatten, LSTM, Masking\n",
    "from tensorflow.keras.utils import to_categorical\n",
    "from tensorflow.keras.preprocessing.sequence import pad_sequences\n",
    "import pandas as pd\n",
    "import numpy as np\n",
    "from sklearn.metrics import accuracy_score, classification_report, confusion_matrix"
   ]
  },
  {
   "cell_type": "code",
   "execution_count": 2,
   "id": "6509b725-5402-4eff-82ed-26ee236cf40b",
   "metadata": {},
   "outputs": [],
   "source": [
    "# Set the path to the dataset\n",
    "datasetspath = \"/Users/saransathy/WalshDBA/Capstone\""
   ]
  },
  {
   "cell_type": "code",
   "execution_count": 3,
   "id": "8009d2fe-84cb-4cf9-9e53-ab6308864c77",
   "metadata": {},
   "outputs": [],
   "source": [
    "df = pd.read_pickle(f\"{datasetspath}/battery_dataset1_normalised.pkl\")"
   ]
  },
  {
   "cell_type": "code",
   "execution_count": 4,
   "id": "a94e115c-2804-47bd-8fc4-821ae3889dbb",
   "metadata": {},
   "outputs": [],
   "source": [
    "cols1 = ['mileage', 'capacity','Curr','SoC','Temp','Volt']\n",
    "cols2 = ['Curr','SoC','Temp','Volt']"
   ]
  },
  {
   "cell_type": "code",
   "execution_count": 5,
   "id": "317e98f8-b4fd-4b9c-9be8-1c12b0763dc3",
   "metadata": {},
   "outputs": [],
   "source": [
    "# Prepare Data\n",
    "sequences = []\n",
    "labels = []\n",
    "for name, group in df.groupby(['car','charge_segment']):\n",
    "    seq = group[cols2].values\n",
    "    sequences.append(seq)\n",
    "    # Use target of first row in each group for label\n",
    "    label = 0\n",
    "    if (group['label'].iloc[0] == '10'):\n",
    "        label = 1\n",
    "    labels.append(label)"
   ]
  },
  {
   "cell_type": "code",
   "execution_count": 7,
   "id": "c61f325f-f172-4783-827f-b9d338661853",
   "metadata": {},
   "outputs": [],
   "source": [
    "# Pad sequences to the same length (maxlen)\n",
    "X = pad_sequences(sequences, dtype='float32', padding='post', value=0.0)\n",
    "y = np.array(labels)"
   ]
  },
  {
   "cell_type": "code",
   "execution_count": 8,
   "id": "d553344b-36ac-49ce-9588-6066245fe761",
   "metadata": {},
   "outputs": [],
   "source": [
    "# Release Memory\n",
    "del df, sequences, labels"
   ]
  },
  {
   "cell_type": "code",
   "execution_count": 9,
   "id": "0b6fda95-2853-44ad-ae0b-4e49059e56a5",
   "metadata": {},
   "outputs": [],
   "source": [
    "from tensorflow.keras.models import load_model"
   ]
  },
  {
   "cell_type": "code",
   "execution_count": 10,
   "id": "8c3457d7-4dd4-40e1-b330-c1184d809104",
   "metadata": {},
   "outputs": [
    {
     "name": "stderr",
     "output_type": "stream",
     "text": [
      "/opt/anaconda3/envs/tf_env/lib/python3.12/site-packages/keras/src/saving/saving_lib.py:797: UserWarning: Skipping variable loading for optimizer 'rmsprop', because it has 7 variables whereas the saved optimizer has 12 variables. \n",
      "  saveable.load_own_variables(weights_store.get(inner_path))\n"
     ]
    }
   ],
   "source": [
    "model = load_model(f\"{datasetspath}/lstm_model.keras\")"
   ]
  },
  {
   "cell_type": "code",
   "execution_count": 11,
   "id": "faba5faa-6b66-4595-bd90-ce69876a33bc",
   "metadata": {},
   "outputs": [],
   "source": [
    "# Print DL Model Results\n",
    "def dl_model_results(model, X_test, y_test):\n",
    "    y_pred = model.predict(X_test)\n",
    "    y_pred = (y_pred > 0.5).astype(int)\n",
    "    model_accuracy = accuracy_score(y_test, y_pred)\n",
    "    model_classification_report = classification_report(y_test, y_pred)\n",
    "    model_confusion_matrix = confusion_matrix(y_test, y_pred)\n",
    "    print(f\"Accuracy: {model_accuracy:.4f}\")\n",
    "    print(\"Classification Report:\")\n",
    "    print(model_classification_report)\n",
    "    print(\"Confusion Matrix:\")\n",
    "    print(model_confusion_matrix)\n",
    "    del y_pred\n",
    "    return model_accuracy, model_classification_report, model_confusion_matrix"
   ]
  },
  {
   "cell_type": "code",
   "execution_count": 12,
   "id": "ac697847-f2c8-4f0d-be55-f3d06b2c69e8",
   "metadata": {},
   "outputs": [
    {
     "name": "stdout",
     "output_type": "stream",
     "text": [
      "\u001b[1m3035/3035\u001b[0m \u001b[32m━━━━━━━━━━━━━━━━━━━━\u001b[0m\u001b[37m\u001b[0m \u001b[1m390s\u001b[0m 128ms/step\n",
      "Accuracy: 0.1784\n",
      "Classification Report:\n",
      "              precision    recall  f1-score   support\n",
      "\n",
      "           0       0.93      0.12      0.22     89824\n",
      "           1       0.08      0.88      0.14      7275\n",
      "\n",
      "    accuracy                           0.18     97099\n",
      "   macro avg       0.50      0.50      0.18     97099\n",
      "weighted avg       0.86      0.18      0.21     97099\n",
      "\n",
      "Confusion Matrix:\n",
      "[[10925 78899]\n",
      " [  875  6400]]\n"
     ]
    },
    {
     "data": {
      "text/plain": [
       "(0.17842614239075583,\n",
       " '              precision    recall  f1-score   support\\n\\n           0       0.93      0.12      0.22     89824\\n           1       0.08      0.88      0.14      7275\\n\\n    accuracy                           0.18     97099\\n   macro avg       0.50      0.50      0.18     97099\\nweighted avg       0.86      0.18      0.21     97099\\n',\n",
       " array([[10925, 78899],\n",
       "        [  875,  6400]]))"
      ]
     },
     "execution_count": 12,
     "metadata": {},
     "output_type": "execute_result"
    }
   ],
   "source": [
    "dl_model_results(model, X, y)"
   ]
  },
  {
   "cell_type": "code",
   "execution_count": null,
   "id": "eb5543a5-3f41-4a61-8cb5-cbea2715acb7",
   "metadata": {},
   "outputs": [],
   "source": []
  }
 ],
 "metadata": {
  "kernelspec": {
   "display_name": "Python [conda env:tf_env]",
   "language": "python",
   "name": "conda-env-tf_env-py"
  },
  "language_info": {
   "codemirror_mode": {
    "name": "ipython",
    "version": 3
   },
   "file_extension": ".py",
   "mimetype": "text/x-python",
   "name": "python",
   "nbconvert_exporter": "python",
   "pygments_lexer": "ipython3",
   "version": "3.12.11"
  }
 },
 "nbformat": 4,
 "nbformat_minor": 5
}
